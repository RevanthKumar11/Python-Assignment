{
 "cells": [
  {
   "cell_type": "code",
   "execution_count": 1,
   "metadata": {},
   "outputs": [
    {
     "name": "stdout",
     "output_type": "stream",
     "text": [
      "function\n"
     ]
    }
   ],
   "source": [
    "print('function')"
   ]
  },
  {
   "cell_type": "code",
   "execution_count": 32,
   "metadata": {},
   "outputs": [
    {
     "name": "stdout",
     "output_type": "stream",
     "text": [
      "Sub-fields in AI are:\n",
      "Machine Learning\n",
      "Neural Networks\n",
      "Vision\n",
      "Robotics\n",
      "Speech Processing\n",
      "Natural Language Processing\n"
     ]
    }
   ],
   "source": [
    "#Create Function\n",
    "\n",
    "learning = ['Sub-fields in AI are:',\n",
    "'Machine Learning','Neural Networks','Vision','Robotics','Speech Processing','Natural Language Processing']\n",
    "def Subfields(n,i):\n",
    "    print(learning[i])\n",
    "    if(n<=1):\n",
    "        return n-1\n",
    "    else:\n",
    "        i = i + 1\n",
    "        return Subfields(n-1,i)\n",
    "n = len(learning)  \n",
    "learn=Subfields(n,0)"
   ]
  },
  {
   "cell_type": "code",
   "execution_count": 40,
   "metadata": {},
   "outputs": [
    {
     "name": "stdout",
     "output_type": "stream",
     "text": [
      "Enter a number:4\n",
      "4  is Even number\n"
     ]
    }
   ],
   "source": [
    "# function odd and even\n",
    "def oddEven():\n",
    "    num = int(input(\"Enter a number:\"))\n",
    "    if(num%2 == 0):\n",
    "        print(num,' is Even number')\n",
    "        message = num,' is Even number'\n",
    "    else:\n",
    "        print(num,' is Odd number')\n",
    "        message = num,' is Odd number'\n",
    "    return message\n",
    "message = oddEven()"
   ]
  },
  {
   "cell_type": "code",
   "execution_count": 50,
   "metadata": {},
   "outputs": [
    {
     "name": "stdout",
     "output_type": "stream",
     "text": [
      "Your Gender: male\n",
      "Your Age: 18\n",
      "NOT ELIGIBLE\n"
     ]
    }
   ],
   "source": [
    "#Elegible\n",
    "def elegible(gender,age):\n",
    "    if(age <= 18):\n",
    "        print('Your Gender:',gender)\n",
    "        print('Your Age:',age)\n",
    "        print('NOT ELIGIBLE')\n",
    "        message = gender ,age, 'NOT ELIGIBLE'\n",
    "    else:\n",
    "        print('Your Gender:',gender)\n",
    "        print('Your Age:',age)\n",
    "        print('ELIGIBLE')\n",
    "        message = gender ,age, 'ELIGIBLE'\n",
    "    return message\n",
    "\n",
    "message = elegible('male',18)\n"
   ]
  },
  {
   "cell_type": "code",
   "execution_count": 67,
   "metadata": {},
   "outputs": [
    {
     "name": "stdout",
     "output_type": "stream",
     "text": [
      "Subject1 = 23\n",
      "Subject2 = 45\n",
      "Subject3 = 34\n",
      "Subject4 = 23\n",
      "Subject5 = 23\n",
      "Total: 148\n",
      "Percentage: 29.599999999999998\n"
     ]
    }
   ],
   "source": [
    "#percentage()\n",
    "def percentage(sub1,sub2,sub3,sub4,sub5):\n",
    "    total = sub1+sub2+sub3+sub4+sub5\n",
    "    percentage = total/500 * 100\n",
    "    print('Subject1 =',sub1)\n",
    "    print('Subject2 =',sub2)\n",
    "    print('Subject3 =',sub3)\n",
    "    print('Subject4 =',sub4)\n",
    "    print('Subject5 =',sub5)\n",
    "    print('Total:',total)\n",
    "    print('Percentage:',percentage)\n",
    "    per = percentage\n",
    "    return per\n",
    "per = percentage(23,45,34,23,23)"
   ]
  },
  {
   "cell_type": "code",
   "execution_count": 77,
   "metadata": {},
   "outputs": [
    {
     "name": "stdout",
     "output_type": "stream",
     "text": [
      "Area of Triangle: 6.0\n"
     ]
    }
   ],
   "source": [
    "def triangel(height,breadth):\n",
    "    areaFormula = (height*breadth)/2\n",
    "    print('Area of Triangle:',areaFormula)\n",
    "    return areaFormula\n",
    "areaFormula = triangel(3,4)"
   ]
  },
  {
   "cell_type": "code",
   "execution_count": 93,
   "metadata": {},
   "outputs": [
    {
     "name": "stdout",
     "output_type": "stream",
     "text": [
      "Perimeter of Triangle: 52\n"
     ]
    }
   ],
   "source": [
    "def perimeter(height1,beight2,breadth):\n",
    "     perimeterFormula = height1 + beight2 + breadth\n",
    "     print('Perimeter of Triangle:',perimeterFormula)\n",
    "     return perimeterFormula\n",
    "perimeterFormula = perimeter(3,4,45)"
   ]
  },
  {
   "cell_type": "code",
   "execution_count": null,
   "metadata": {},
   "outputs": [],
   "source": []
  }
 ],
 "metadata": {
  "kernelspec": {
   "display_name": "Python 3",
   "language": "python",
   "name": "python3"
  },
  "language_info": {
   "codemirror_mode": {
    "name": "ipython",
    "version": 3
   },
   "file_extension": ".py",
   "mimetype": "text/x-python",
   "name": "python",
   "nbconvert_exporter": "python",
   "pygments_lexer": "ipython3",
   "version": "3.7.4"
  }
 },
 "nbformat": 4,
 "nbformat_minor": 2
}
