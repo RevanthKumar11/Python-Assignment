{
 "cells": [
  {
   "cell_type": "code",
   "execution_count": 1,
   "metadata": {},
   "outputs": [
    {
     "name": "stdout",
     "output_type": "stream",
     "text": [
      "Hope AI\n"
     ]
    }
   ],
   "source": [
    "#print\n",
    "print('Hope AI')"
   ]
  },
  {
   "cell_type": "code",
   "execution_count": 2,
   "metadata": {},
   "outputs": [
    {
     "name": "stdout",
     "output_type": "stream",
     "text": [
      "Enter your institute name:Hope AI\n"
     ]
    }
   ],
   "source": [
    "#company Name\n",
    "companyName = input('Enter your institute name:')"
   ]
  },
  {
   "cell_type": "code",
   "execution_count": 3,
   "metadata": {},
   "outputs": [
    {
     "name": "stdout",
     "output_type": "stream",
     "text": [
      "Enter Your name:revanth\n",
      "Enter the age:34\n",
      "Enter the school name:sairam\n",
      "Enter your degree:bca\n"
     ]
    }
   ],
   "source": [
    "#bio Data\n",
    "name = input('Enter Your name:')\n",
    "age = int(input('Enter the age:'))\n",
    "scl =input('Enter the school name:')\n",
    "deg =input('Enter your degree:')"
   ]
  },
  {
   "cell_type": "code",
   "execution_count": 6,
   "metadata": {},
   "outputs": [
    {
     "name": "stdout",
     "output_type": "stream",
     "text": [
      "Enter the a:10\n",
      "Enter the b:20\n",
      "Addition: 30\n"
     ]
    }
   ],
   "source": [
    "#addition\n",
    "a = int(input('Enter the a:'))\n",
    "b = int(input('Enter the b:'))\n",
    "print('Addition:',a+b)"
   ]
  },
  {
   "cell_type": "code",
   "execution_count": 7,
   "metadata": {},
   "outputs": [
    {
     "name": "stdout",
     "output_type": "stream",
     "text": [
      "Enter the a:20\n",
      "Enter the b:40\n",
      "Subraction: -20\n"
     ]
    }
   ],
   "source": [
    "#subraction\n",
    "a = int(input('Enter the a:'))\n",
    "b = int(input('Enter the b:'))\n",
    "print('Subraction:',a-b)"
   ]
  },
  {
   "cell_type": "code",
   "execution_count": 8,
   "metadata": {},
   "outputs": [
    {
     "name": "stdout",
     "output_type": "stream",
     "text": [
      "Enter the a:20\n",
      "Enter the b:30\n",
      "Multiplication: 600\n"
     ]
    }
   ],
   "source": [
    "#multiplication\n",
    "a = int(input('Enter the a:'))\n",
    "b = int(input('Enter the b:'))\n",
    "print('Multiplication:',a*b)"
   ]
  },
  {
   "cell_type": "code",
   "execution_count": 9,
   "metadata": {},
   "outputs": [
    {
     "name": "stdout",
     "output_type": "stream",
     "text": [
      "Enter the a:20\n",
      "Enter the b:2\n",
      "Division 10.0\n"
     ]
    }
   ],
   "source": [
    "#Division\n",
    "a = int(input('Enter the a:'))\n",
    "b = int(input('Enter the b:'))\n",
    "print('Division',a/b)"
   ]
  },
  {
   "cell_type": "code",
   "execution_count": 10,
   "metadata": {},
   "outputs": [
    {
     "name": "stdout",
     "output_type": "stream",
     "text": [
      "Enter the a:20\n",
      "Enter the b:3\n",
      "floor division 6\n"
     ]
    }
   ],
   "source": [
    "#Floor Division\n",
    "a = int(input('Enter the a:'))\n",
    "b = int(input('Enter the b:'))\n",
    "print('floor division',a//b)"
   ]
  },
  {
   "cell_type": "code",
   "execution_count": 11,
   "metadata": {},
   "outputs": [
    {
     "name": "stdout",
     "output_type": "stream",
     "text": [
      "Enter the a:20\n",
      "Enter the b:2\n",
      "Modulus 0\n"
     ]
    }
   ],
   "source": [
    "#modulus\n",
    "a = int(input('Enter the a:'))\n",
    "b = int(input('Enter the b:'))\n",
    "print('Modulus',a%b)"
   ]
  },
  {
   "cell_type": "code",
   "execution_count": 1,
   "metadata": {},
   "outputs": [
    {
     "name": "stdout",
     "output_type": "stream",
     "text": [
      "Enter the a:2\n",
      "Enter the b:3\n",
      "power 8\n"
     ]
    }
   ],
   "source": [
    "#power\n",
    "a = int(input('Enter the a:'))\n",
    "b = int(input('Enter the b:'))\n",
    "print('power',pow(a,b))"
   ]
  },
  {
   "cell_type": "code",
   "execution_count": null,
   "metadata": {},
   "outputs": [],
   "source": []
  },
  {
   "cell_type": "code",
   "execution_count": null,
   "metadata": {},
   "outputs": [],
   "source": []
  },
  {
   "cell_type": "code",
   "execution_count": null,
   "metadata": {},
   "outputs": [],
   "source": []
  },
  {
   "cell_type": "code",
   "execution_count": null,
   "metadata": {},
   "outputs": [],
   "source": []
  },
  {
   "cell_type": "code",
   "execution_count": null,
   "metadata": {},
   "outputs": [],
   "source": []
  },
  {
   "cell_type": "code",
   "execution_count": null,
   "metadata": {},
   "outputs": [],
   "source": []
  },
  {
   "cell_type": "code",
   "execution_count": null,
   "metadata": {},
   "outputs": [],
   "source": []
  }
 ],
 "metadata": {
  "kernelspec": {
   "display_name": "Python 3",
   "language": "python",
   "name": "python3"
  },
  "language_info": {
   "codemirror_mode": {
    "name": "ipython",
    "version": 3
   },
   "file_extension": ".py",
   "mimetype": "text/x-python",
   "name": "python",
   "nbconvert_exporter": "python",
   "pygments_lexer": "ipython3",
   "version": "3.7.4"
  }
 },
 "nbformat": 4,
 "nbformat_minor": 2
}
